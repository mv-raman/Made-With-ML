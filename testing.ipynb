{
  "cells": [
    {
      "cell_type": "markdown",
      "metadata": {
        "id": "oYMQr4Nl-DYg"
      },
      "source": [
        "<div align=\"center\">\n",
        "<h1><img width=\"30\" src=\"https://madewithml.com/static/images/rounded_logo.png\">&nbsp;<a href=\"https://madewithml.com/\">Made With ML</a></h1>\n",
        "Applied ML · MLOps · Production\n",
        "<br>\n",
        "Join 30K+ developers in learning how to responsibly <a href=\"https://madewithml.com/about/\">deliver value</a> with ML.\n",
        "    <br>\n",
        "</div>\n",
        "\n",
        "<br>\n",
        "\n",
        "<div align=\"center\">\n",
        "    <a target=\"_blank\" href=\"https://madewithml.com\"><img src=\"https://img.shields.io/badge/Subscribe-40K-brightgreen\"></a>&nbsp;\n",
        "    <a target=\"_blank\" href=\"https://github.com/GokuMohandas/MadeWithML\"><img src=\"https://img.shields.io/github/stars/GokuMohandas/MadeWithML.svg?style=social&label=Star\"></a>&nbsp;\n",
        "    <a target=\"_blank\" href=\"https://www.linkedin.com/in/goku\"><img src=\"https://img.shields.io/badge/style--5eba00.svg?label=LinkedIn&logo=linkedin&style=social\"></a>&nbsp;\n",
        "    <a target=\"_blank\" href=\"https://twitter.com/GokuMohandas\"><img src=\"https://img.shields.io/twitter/follow/GokuMohandas.svg?label=Follow&style=social\"></a>\n",
        "    <br>\n",
        "    🔥&nbsp; Among the <a href=\"https://github.com/GokuMohandas/MadeWithML\" target=\"_blank\">top MLOps</a> repositories on GitHub\n",
        "</div>\n",
        "\n",
        "<br>\n",
        "<hr>"
      ]
    },
    {
      "cell_type": "markdown",
      "metadata": {
        "id": "4F-xqh9hcaqD"
      },
      "source": [
        "\n",
        "# Testing ML\n",
        "\n",
        "This notebook complements the [testing ML lesson](https://madewithml.com/courses/mlops/testing/) where we learn how to test code, data and models in order to build reliable ML systems. All the concepts mentioned here are covered in much more detail and tied to software engineering best practices for building ML systems. So be sure to check out the [lesson](https://madewithml.com/courses/mlops/testing/) if you haven't already."
      ]
    },
    {
      "cell_type": "markdown",
      "metadata": {
        "id": "H15IJGqnp323"
      },
      "source": [
        "<div align=\"left\">\n",
        "<a target=\"_blank\" href=\"https://madewithml.com/courses/mlops/testing/\"><img src=\"https://img.shields.io/badge/📖 Read-lesson-9cf\"></a>&nbsp;\n",
        "<a href=\"https://github.com/GokuMohandas/testing-ml/blob/main/testing.ipynb\" role=\"button\"><img src=\"https://img.shields.io/static/v1?label=&amp;message=View%20On%20GitHub&amp;color=586069&amp;logo=github&amp;labelColor=2f363d\"></a>&nbsp;\n",
        "<a href=\"https://colab.research.google.com/github/GokuMohandas/testing-ml/blob/main/testing.ipynb\"><img src=\"https://colab.research.google.com/assets/colab-badge.svg\" alt=\"Open In Colab\"></a>\n",
        "</div>"
      ]
    },
    {
      "cell_type": "markdown",
      "metadata": {
        "id": "wKGLhg_qcaqH"
      },
      "source": [
        "## Data"
      ]
    },
    {
      "cell_type": "markdown",
      "metadata": {
        "id": "AtlC2bbu0K_r"
      },
      "source": [
        "> We suggest you execute this notebook on [Google colab](https://colab.research.google.com/github/GokuMohandas/testing-ml/blob/main/testing.ipynb) since we leverage many of the preinstalled packages, as well as the free GPU. However, as always, we can also run this locally but we'll have to manually install any missing packages."
      ]
    },
    {
      "cell_type": "code",
      "execution_count": 16,
      "metadata": {},
      "outputs": [],
      "source": [
        "import ipytest\n",
        "ipytest.autoconfig()"
      ]
    },
    {
      "cell_type": "code",
      "execution_count": 17,
      "metadata": {},
      "outputs": [],
      "source": [
        "import pytest\n",
        "\n",
        "# Test function\n",
        "def add(a, b):\n",
        "    return a + b"
      ]
    },
    {
      "cell_type": "code",
      "execution_count": 18,
      "metadata": {},
      "outputs": [
        {
          "data": {
            "text/plain": [
              "5"
            ]
          },
          "execution_count": 18,
          "metadata": {},
          "output_type": "execute_result"
        }
      ],
      "source": [
        "add(2,3)"
      ]
    },
    {
      "cell_type": "code",
      "execution_count": 24,
      "metadata": {},
      "outputs": [
        {
          "name": "stderr",
          "output_type": "stream",
          "text": [
            "UsageError: Cell magic `%%run_pytest[clean]` not found.\n"
          ]
        }
      ],
      "source": [
        "\n",
        "@pytest.mark.parametrize(\n",
        "    \"a, b, expected\",\n",
        "    [\n",
        "        (2,3,5),\n",
        "        (2,-1,1)\n",
        "    ]\n",
        ")\n",
        "def test_add(a, b, expected):\n",
        "    assert add(a,b)==expected"
      ]
    },
    {
      "cell_type": "code",
      "execution_count": 23,
      "metadata": {},
      "outputs": [
        {
          "name": "stdout",
          "output_type": "stream",
          "text": [
            "\u001b[32m.\u001b[0m\u001b[32m.\u001b[0m\u001b[32m                                                                                           [100%]\u001b[0m\n",
            "\u001b[32m\u001b[32m\u001b[1m2 passed\u001b[0m\u001b[32m in 0.01s\u001b[0m\u001b[0m\n"
          ]
        },
        {
          "data": {
            "text/plain": [
              "<ExitCode.OK: 0>"
            ]
          },
          "execution_count": 23,
          "metadata": {},
          "output_type": "execute_result"
        }
      ],
      "source": [
        "ipytest.run()"
      ]
    },
    {
      "cell_type": "code",
      "execution_count": null,
      "metadata": {},
      "outputs": [],
      "source": [
        "@pytest.mark.parametrize(\n",
        "    \"text, sw, clean_text\",\n",
        "    [\n",
        "        (\"hi\", [], \"hi\"),\n",
        "        (\"hi you\", ['you'], 'hi'),\n",
        "        (\"hi yous\", ['you', 'hi yous'])\n",
        "    ]\n",
        ")\n",
        "def test_clean_text(text, sw, clean_text):\n",
        "    assert data.clean_text"
      ]
    },
    {
      "cell_type": "code",
      "execution_count": null,
      "metadata": {},
      "outputs": [],
      "source": []
    },
    {
      "cell_type": "code",
      "execution_count": 25,
      "metadata": {
        "id": "zHTlIl_3caqI"
      },
      "outputs": [],
      "source": [
        "!pip install great-expectations==0.15.15 -q"
      ]
    },
    {
      "cell_type": "code",
      "execution_count": 26,
      "metadata": {
        "id": "27pRgYKFcaqJ"
      },
      "outputs": [],
      "source": [
        "import great_expectations as ge\n",
        "import json\n",
        "import pandas as pd\n",
        "from urllib.request import urlopen"
      ]
    },
    {
      "cell_type": "code",
      "execution_count": 41,
      "metadata": {
        "colab": {
          "base_uri": "https://localhost:8080/",
          "height": 224
        },
        "id": "U0TGfyUzcaqJ",
        "outputId": "7c7eaf21-ef0b-4727-aaed-3ce53308c006"
      },
      "outputs": [
        {
          "name": "stdout",
          "output_type": "stream",
          "text": [
            "764 projects\n"
          ]
        },
        {
          "data": {
            "text/html": [
              "<div>\n",
              "<style scoped>\n",
              "    .dataframe tbody tr th:only-of-type {\n",
              "        vertical-align: middle;\n",
              "    }\n",
              "\n",
              "    .dataframe tbody tr th {\n",
              "        vertical-align: top;\n",
              "    }\n",
              "\n",
              "    .dataframe thead th {\n",
              "        text-align: right;\n",
              "    }\n",
              "</style>\n",
              "<table border=\"1\" class=\"dataframe\">\n",
              "  <thead>\n",
              "    <tr style=\"text-align: right;\">\n",
              "      <th></th>\n",
              "      <th>id</th>\n",
              "      <th>created_on</th>\n",
              "      <th>title</th>\n",
              "      <th>description</th>\n",
              "      <th>tag</th>\n",
              "    </tr>\n",
              "  </thead>\n",
              "  <tbody>\n",
              "    <tr>\n",
              "      <th>640</th>\n",
              "      <td>2053</td>\n",
              "      <td>2020-08-05 20:30:33</td>\n",
              "      <td>Image Classification with Keras</td>\n",
              "      <td>Build a pipeline to train an image classifier ...</td>\n",
              "      <td>computer-vision</td>\n",
              "    </tr>\n",
              "    <tr>\n",
              "      <th>446</th>\n",
              "      <td>1542</td>\n",
              "      <td>2020-06-21 20:46:12</td>\n",
              "      <td>Autocoder - Finetuning GPT-2 for Auto Code Com...</td>\n",
              "      <td>A basic and simple tool for code auto completi...</td>\n",
              "      <td>natural-language-processing</td>\n",
              "    </tr>\n",
              "    <tr>\n",
              "      <th>502</th>\n",
              "      <td>1678</td>\n",
              "      <td>2020-07-02 12:13:19</td>\n",
              "      <td>NSFW Image Classification REST API built with ...</td>\n",
              "      <td>A ready-to-use &amp; open-source NSFW Image Classi...</td>\n",
              "      <td>computer-vision</td>\n",
              "    </tr>\n",
              "    <tr>\n",
              "      <th>614</th>\n",
              "      <td>2002</td>\n",
              "      <td>2020-07-30 04:08:46</td>\n",
              "      <td>Multi-target in Albumentations</td>\n",
              "      <td>Many images, many masks, bounding boxes, and k...</td>\n",
              "      <td>computer-vision</td>\n",
              "    </tr>\n",
              "    <tr>\n",
              "      <th>355</th>\n",
              "      <td>1122</td>\n",
              "      <td>2020-06-02 05:10:18</td>\n",
              "      <td>Machine Learning: Tests and Production</td>\n",
              "      <td>Best practices for testing ML-based systems.</td>\n",
              "      <td>mlops</td>\n",
              "    </tr>\n",
              "  </tbody>\n",
              "</table>\n",
              "</div>"
            ],
            "text/plain": [
              "       id           created_on   \n",
              "640  2053  2020-08-05 20:30:33  \\\n",
              "446  1542  2020-06-21 20:46:12   \n",
              "502  1678  2020-07-02 12:13:19   \n",
              "614  2002  2020-07-30 04:08:46   \n",
              "355  1122  2020-06-02 05:10:18   \n",
              "\n",
              "                                                 title   \n",
              "640                    Image Classification with Keras  \\\n",
              "446  Autocoder - Finetuning GPT-2 for Auto Code Com...   \n",
              "502  NSFW Image Classification REST API built with ...   \n",
              "614                     Multi-target in Albumentations   \n",
              "355             Machine Learning: Tests and Production   \n",
              "\n",
              "                                           description   \n",
              "640  Build a pipeline to train an image classifier ...  \\\n",
              "446  A basic and simple tool for code auto completi...   \n",
              "502  A ready-to-use & open-source NSFW Image Classi...   \n",
              "614  Many images, many masks, bounding boxes, and k...   \n",
              "355       Best practices for testing ML-based systems.   \n",
              "\n",
              "                             tag  \n",
              "640              computer-vision  \n",
              "446  natural-language-processing  \n",
              "502              computer-vision  \n",
              "614              computer-vision  \n",
              "355                        mlops  "
            ]
          },
          "execution_count": 41,
          "metadata": {},
          "output_type": "execute_result"
        }
      ],
      "source": [
        "# Load labeled projects\n",
        "projects = pd.read_csv(\"https://raw.githubusercontent.com/GokuMohandas/Made-With-ML/main/datasets/projects.csv\")\n",
        "tags = pd.read_csv(\"https://raw.githubusercontent.com/GokuMohandas/Made-With-ML/main/datasets/tags.csv\")\n",
        "tags['id']=projects.id.unique()\n",
        "df = ge.dataset.PandasDataset(pd.merge(projects, tags, on=\"id\"))\n",
        "print (f\"{len(df)} projects\")\n",
        "df.sample(5)"
      ]
    },
    {
      "cell_type": "markdown",
      "metadata": {
        "id": "l-1uOupZ_sV0"
      },
      "source": [
        "## Expectations"
      ]
    },
    {
      "cell_type": "markdown",
      "metadata": {
        "id": "qBiEhZgf_1ep"
      },
      "source": [
        "When it comes to creating expectations as to what our data should look like, we want to think about our entire dataset and all the features (columns) within it."
      ]
    },
    {
      "cell_type": "code",
      "execution_count": 43,
      "metadata": {
        "id": "mq_v3CCi_y0V"
      },
      "outputs": [
        {
          "data": {
            "text/plain": [
              "{\n",
              "  \"result\": {\n",
              "    \"observed_value\": [\n",
              "      \"id\",\n",
              "      \"created_on\",\n",
              "      \"title\",\n",
              "      \"description\",\n",
              "      \"tag\"\n",
              "    ]\n",
              "  },\n",
              "  \"exception_info\": {\n",
              "    \"raised_exception\": false,\n",
              "    \"exception_traceback\": null,\n",
              "    \"exception_message\": null\n",
              "  },\n",
              "  \"success\": true,\n",
              "  \"meta\": {}\n",
              "}"
            ]
          },
          "execution_count": 43,
          "metadata": {},
          "output_type": "execute_result"
        }
      ],
      "source": [
        "# Presence of specific features\n",
        "df.expect_table_columns_to_match_ordered_list(\n",
        "    column_list=[\"id\", \"created_on\", \"title\", \"description\", \"tag\"]\n",
        ")"
      ]
    },
    {
      "cell_type": "code",
      "execution_count": 44,
      "metadata": {
        "id": "LiOVVOBY_8o8"
      },
      "outputs": [
        {
          "data": {
            "text/plain": [
              "{\n",
              "  \"result\": {\n",
              "    \"element_count\": 764,\n",
              "    \"missing_count\": 0,\n",
              "    \"missing_percent\": 0.0,\n",
              "    \"unexpected_count\": 0,\n",
              "    \"unexpected_percent\": 0.0,\n",
              "    \"unexpected_percent_total\": 0.0,\n",
              "    \"unexpected_percent_nonmissing\": 0.0,\n",
              "    \"partial_unexpected_list\": []\n",
              "  },\n",
              "  \"exception_info\": {\n",
              "    \"raised_exception\": false,\n",
              "    \"exception_traceback\": null,\n",
              "    \"exception_message\": null\n",
              "  },\n",
              "  \"success\": true,\n",
              "  \"meta\": {}\n",
              "}"
            ]
          },
          "execution_count": 44,
          "metadata": {},
          "output_type": "execute_result"
        }
      ],
      "source": [
        "# Unique combinations of features (detect data leaks!)\n",
        "df.expect_compound_columns_to_be_unique(column_list=[\"title\", \"description\"])"
      ]
    },
    {
      "cell_type": "code",
      "execution_count": 45,
      "metadata": {
        "id": "Qn3Qbn1E_8rj"
      },
      "outputs": [
        {
          "data": {
            "text/plain": [
              "{\n",
              "  \"result\": {\n",
              "    \"element_count\": 764,\n",
              "    \"unexpected_count\": 0,\n",
              "    \"unexpected_percent\": 0.0,\n",
              "    \"unexpected_percent_total\": 0.0,\n",
              "    \"partial_unexpected_list\": []\n",
              "  },\n",
              "  \"exception_info\": {\n",
              "    \"raised_exception\": false,\n",
              "    \"exception_traceback\": null,\n",
              "    \"exception_message\": null\n",
              "  },\n",
              "  \"success\": true,\n",
              "  \"meta\": {}\n",
              "}"
            ]
          },
          "execution_count": 45,
          "metadata": {},
          "output_type": "execute_result"
        }
      ],
      "source": [
        "# Missing values\n",
        "df.expect_column_values_to_not_be_null(column=\"tag\")"
      ]
    },
    {
      "cell_type": "code",
      "execution_count": 46,
      "metadata": {
        "id": "yFCHceSTByMQ"
      },
      "outputs": [
        {
          "data": {
            "text/plain": [
              "{\n",
              "  \"result\": {\n",
              "    \"element_count\": 764,\n",
              "    \"missing_count\": 0,\n",
              "    \"missing_percent\": 0.0,\n",
              "    \"unexpected_count\": 0,\n",
              "    \"unexpected_percent\": 0.0,\n",
              "    \"unexpected_percent_total\": 0.0,\n",
              "    \"unexpected_percent_nonmissing\": 0.0,\n",
              "    \"partial_unexpected_list\": []\n",
              "  },\n",
              "  \"exception_info\": {\n",
              "    \"raised_exception\": false,\n",
              "    \"exception_traceback\": null,\n",
              "    \"exception_message\": null\n",
              "  },\n",
              "  \"success\": true,\n",
              "  \"meta\": {}\n",
              "}"
            ]
          },
          "execution_count": 46,
          "metadata": {},
          "output_type": "execute_result"
        }
      ],
      "source": [
        "# Unique values\n",
        "df.expect_column_values_to_be_unique(column=\"id\")"
      ]
    },
    {
      "cell_type": "code",
      "execution_count": 47,
      "metadata": {
        "id": "SHZSTik6ByPH"
      },
      "outputs": [
        {
          "data": {
            "text/plain": [
              "{\n",
              "  \"result\": {\n",
              "    \"element_count\": 764,\n",
              "    \"missing_count\": 0,\n",
              "    \"missing_percent\": 0.0,\n",
              "    \"unexpected_count\": 0,\n",
              "    \"unexpected_percent\": 0.0,\n",
              "    \"unexpected_percent_total\": 0.0,\n",
              "    \"unexpected_percent_nonmissing\": 0.0,\n",
              "    \"partial_unexpected_list\": []\n",
              "  },\n",
              "  \"exception_info\": {\n",
              "    \"raised_exception\": false,\n",
              "    \"exception_traceback\": null,\n",
              "    \"exception_message\": null\n",
              "  },\n",
              "  \"success\": true,\n",
              "  \"meta\": {}\n",
              "}"
            ]
          },
          "execution_count": 47,
          "metadata": {},
          "output_type": "execute_result"
        }
      ],
      "source": [
        "# Type adherence\n",
        "df.expect_column_values_to_be_of_type(column=\"title\", type_=\"str\")"
      ]
    },
    {
      "cell_type": "code",
      "execution_count": 48,
      "metadata": {
        "id": "B8AgNaWEB5fn"
      },
      "outputs": [
        {
          "data": {
            "text/plain": [
              "{\n",
              "  \"result\": {\n",
              "    \"element_count\": 764,\n",
              "    \"missing_count\": 0,\n",
              "    \"missing_percent\": 0.0,\n",
              "    \"unexpected_count\": 0,\n",
              "    \"unexpected_percent\": 0.0,\n",
              "    \"unexpected_percent_total\": 0.0,\n",
              "    \"unexpected_percent_nonmissing\": 0.0,\n",
              "    \"partial_unexpected_list\": []\n",
              "  },\n",
              "  \"exception_info\": {\n",
              "    \"raised_exception\": false,\n",
              "    \"exception_traceback\": null,\n",
              "    \"exception_message\": null\n",
              "  },\n",
              "  \"success\": true,\n",
              "  \"meta\": {}\n",
              "}"
            ]
          },
          "execution_count": 48,
          "metadata": {},
          "output_type": "execute_result"
        }
      ],
      "source": [
        "# List (categorical) / range (continuous) of allowed values\n",
        "tags = [\"computer-vision\", \"graph-learning\", \"reinforcement-learning\",\n",
        "        \"natural-language-processing\", \"mlops\", \"time-series\"]\n",
        "df.expect_column_values_to_be_in_set(column=\"tag\", value_set=tags)"
      ]
    },
    {
      "cell_type": "markdown",
      "metadata": {
        "id": "qp2CsiIcEuBT"
      },
      "source": [
        "There are just a few of the different expectations that we can create. Be sure to explore all the [expectations](https://greatexpectations.io/expectations/), including [custom expectations](https://docs.greatexpectations.io/docs/guides/expectations/creating_custom_expectations/overview/). Here are some other popular expectations that don't pertain to our specific dataset but are widely applicable:\n",
        "\n",
        "- feature value relationships with other feature values → `expect_column_pair_values_a_to_be_greater_than_b`\n",
        "- row count (exact or range) of samples → `expect_table_row_count_to_be_between`\n",
        "- value statistics (mean, std, median, max, min, sum, etc.) → `expect_column_mean_to_be_between`"
      ]
    },
    {
      "cell_type": "markdown",
      "metadata": {
        "id": "f4c6BGKOcaqU"
      },
      "source": [
        "## Production"
      ]
    },
    {
      "cell_type": "markdown",
      "metadata": {
        "id": "VEae_tNSGRmR"
      },
      "source": [
        "The advantage of using a library such as great expectations, as opposed to isolated assert statements is that we can:\n",
        "\n",
        "- reduce redundant efforts for creating tests across data modalities\n",
        "- automatically create testing [checkpoints](https://madewithml.com/courses/mlops/testing#checkpoints) to execute as our dataset grows\n",
        "- automatically generate [documentation](https://madewithml.com/courses/mlops/testing#documentation) on expectations and report on runs"
      ]
    },
    {
      "cell_type": "code",
      "execution_count": 50,
      "metadata": {
        "colab": {
          "base_uri": "https://localhost:8080/"
        },
        "id": "TUJ1vH6mcaqU",
        "outputId": "6cb899de-3795-41fc-95f8-d5465cb8da06"
      },
      "outputs": [
        {
          "name": "stdout",
          "output_type": "stream",
          "text": [
            "{\n",
            "  \"success\": true,\n",
            "  \"statistics\": {\n",
            "    \"evaluated_expectations\": 6,\n",
            "    \"successful_expectations\": 6,\n",
            "    \"unsuccessful_expectations\": 0,\n",
            "    \"success_percent\": 100.0\n",
            "  },\n",
            "  \"meta\": {\n",
            "    \"great_expectations_version\": \"0.15.15\",\n",
            "    \"expectation_suite_name\": \"default\",\n",
            "    \"run_id\": {\n",
            "      \"run_name\": null,\n",
            "      \"run_time\": \"2024-02-25T09:23:06.069124+00:00\"\n",
            "    },\n",
            "    \"batch_kwargs\": {\n",
            "      \"ge_batch_id\": \"20584e94-d3bd-11ee-a284-8ed10ce88ba8\"\n",
            "    },\n",
            "    \"batch_markers\": {},\n",
            "    \"batch_parameters\": {},\n",
            "    \"validation_time\": \"20240225T092306.069090Z\",\n",
            "    \"expectation_suite_meta\": {\n",
            "      \"great_expectations_version\": \"0.15.15\"\n",
            "    }\n",
            "  },\n",
            "  \"results\": [],\n",
            "  \"evaluation_parameters\": {}\n",
            "}\n"
          ]
        }
      ],
      "source": [
        "# Expectation suite\n",
        "expectation_suite = df.get_expectation_suite(discard_failed_expectations=False)\n",
        "print(df.validate(expectation_suite=expectation_suite, only_return_failures=True))"
      ]
    },
    {
      "cell_type": "markdown",
      "metadata": {
        "id": "PppKyXefG6rZ"
      },
      "source": [
        "Many of these expectations will be executed when the data is extracted, loaded and transformed during our [DataOps workflows](https://madewithml.com/courses/mlops/orchestration#dataops). Typically, the data will be extracted from a source ([database](https://madewithml.com/courses/mlops/data-stack#database), [API](https://madewithml.com/courses/mlops/api), etc.) and loaded into a data system (ex. [data warehouse](https://madewithml.com/courses/mlops/data-stack#data-warehouse)) before being transformed there (ex. using [dbt](https://www.getdbt.com/)) for downstream applications. Throughout these tasks, Great Expectations checkpoint validations can be run to ensure the validity of the data and the changes applied to it.\n",
        "\n",
        "<img width=\"700\" src=\"https://madewithml.com/static/images/mlops/testing/production.png\" alt=\"ETL pipelines in production\">"
      ]
    },
    {
      "cell_type": "markdown",
      "metadata": {
        "id": "QcODvh86_sw4"
      },
      "source": [
        "# Learn more"
      ]
    },
    {
      "cell_type": "markdown",
      "metadata": {
        "id": "CADqxtq8dAQP"
      },
      "source": [
        "While these are the foundational concepts for testing ML systems, there are a lot of software best practices for testing that we cannot show in an isolated repository. Learn a lot more about comprehensively testing code, data and models for ML systems in our [testing lesson](https://madewithml.com/courses/mlops/testing/)."
      ]
    },
    {
      "cell_type": "markdown",
      "metadata": {},
      "source": [
        "# Behavorial testing of models"
      ]
    },
    {
      "cell_type": "markdown",
      "metadata": {},
      "source": [
        "### invariance : changes should not affect outputs (like verb changes)"
      ]
    },
    {
      "cell_type": "markdown",
      "metadata": {},
      "source": [
        "### Directional : changes should affect outputs"
      ]
    },
    {
      "cell_type": "markdown",
      "metadata": {},
      "source": [
        "### Minimum functionality : simple combination of inputs and expected outputs"
      ]
    },
    {
      "cell_type": "markdown",
      "metadata": {},
      "source": []
    }
  ],
  "metadata": {
    "colab": {
      "collapsed_sections": [],
      "name": "testing.ipynb",
      "provenance": [],
      "toc_visible": true
    },
    "kernelspec": {
      "display_name": "Python 3.9.1 64-bit ('3.9.1')",
      "language": "python",
      "name": "python3"
    },
    "language_info": {
      "codemirror_mode": {
        "name": "ipython",
        "version": 3
      },
      "file_extension": ".py",
      "mimetype": "text/x-python",
      "name": "python",
      "nbconvert_exporter": "python",
      "pygments_lexer": "ipython3",
      "version": "3.10.11"
    },
    "orig_nbformat": 4,
    "vscode": {
      "interpreter": {
        "hash": "86a18fab98e45cbbb46dd97b38b13914cb97c5aa653edcee9fd16b53f5a0e542"
      }
    }
  },
  "nbformat": 4,
  "nbformat_minor": 0
}
